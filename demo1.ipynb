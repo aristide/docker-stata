{
 "cells": [
  {
   "cell_type": "code",
   "execution_count": null,
   "id": "4fe80382-2adc-4e50-a2ee-2c591cc8be2e",
   "metadata": {},
   "outputs": [],
   "source": [
    "sysuse uslifeexp2"
   ]
  },
  {
   "cell_type": "code",
   "execution_count": null,
   "id": "e12661d2-eb61-4e58-8a51-75529a79b5e0",
   "metadata": {},
   "outputs": [],
   "source": [
    "scatter le year, ytitle(LE (year))"
   ]
  },
  {
   "cell_type": "code",
   "execution_count": null,
   "id": "caadb657-b710-4b73-bbd2-f5829f17e242",
   "metadata": {},
   "outputs": [],
   "source": [
    "#delimit ;\n",
    "scatter le year, connect(l);\n",
    "scatter le year, connect(l) msymbol(i) name(lineonly, replace);\n",
    "#delimit cr"
   ]
  },
  {
   "cell_type": "code",
   "execution_count": null,
   "id": "529beec5-618d-45d6-ba9f-5e10ca08676f",
   "metadata": {},
   "outputs": [],
   "source": [
    "*codebook, compact\n",
    "*gen t = year - 1900\n",
    "capture {\n",
    "    list in 1/1, noobs clean\n",
    "}"
   ]
  },
  {
   "cell_type": "code",
   "execution_count": null,
   "id": "3fff4f8d-4eb6-428c-97e6-ab1daa686e5f",
   "metadata": {},
   "outputs": [],
   "source": [
    "capture program drop display1\n",
    "program display1\n",
    "    list in 1/1, noobs clean\n",
    "end"
   ]
  },
  {
   "cell_type": "code",
   "execution_count": null,
   "id": "b3d13891-3bb2-4632-92fe-9bbe4f32a7cd",
   "metadata": {},
   "outputs": [],
   "source": [
    "display1\n",
    "program list display1"
   ]
  },
  {
   "cell_type": "code",
   "execution_count": null,
   "id": "03314468-749d-415f-81f9-181f4c64ea33",
   "metadata": {},
   "outputs": [],
   "source": [
    "quietly {\n",
    "    list in 1/1, noobs clean\n",
    "}"
   ]
  },
  {
   "cell_type": "code",
   "execution_count": null,
   "id": "53973d51-59ec-4d3f-8082-3f6d36aac3f1",
   "metadata": {},
   "outputs": [],
   "source": [
    "list in 1/1, nobs clean //intentional error"
   ]
  },
  {
   "cell_type": "code",
   "execution_count": null,
   "id": "dba729cc-f7d2-4a4a-8840-6c348c80ee73",
   "metadata": {},
   "outputs": [],
   "source": [
    "disp \"test1\"\n",
    "list in 1/1, nobs clean //intentional error\n",
    "display1"
   ]
  }
 ],
 "metadata": {
  "kernelspec": {
   "display_name": "Stata (nbstata)",
   "language": "stata",
   "name": "nbstata"
  },
  "language_info": {
   "file_extension": ".do",
   "mimetype": "text/x-stata",
   "name": "stata",
   "version": "17"
  }
 },
 "nbformat": 4,
 "nbformat_minor": 5
}
