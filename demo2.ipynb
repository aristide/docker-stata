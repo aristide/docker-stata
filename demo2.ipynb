{
 "cells": [
  {
   "cell_type": "markdown",
   "metadata": {},
   "source": [
    "## Demo Jupyter notebook\n",
    "\n",
    "This Jupyter notebook is an example of how you can use Stata in the Jupyter ecosystem.\n",
    "\n",
    "Full documentation, including how it was installed using `nbstata`, is available at https://hugetim.github.io/nbstata/."
   ]
  },
  {
   "cell_type": "markdown",
   "metadata": {},
   "source": [
    "## Overview\n",
    "\n",
    "The Jupyter Notebook is a file format that permits interactive coding with text, code, and results in a single document. You can share a notebook file (with extension `.ipynb`), and results will be viewable without running the code, but as long as the recipient also has Jupyter installed, he or she can edit and re-run the code cells.\n",
    "\n",
    "Jupyter itself is language agnostic, i.e. it permits writing code in any language. This document uses Stata code, but you can also code in Jupyter using Python, [R](https://irkernel.github.io/), [Julia](https://github.com/JuliaLang/IJulia.jl), [Matlab](https://github.com/calysto/matlab_kernel), and [SAS](https://github.com/sassoftware/sas_kernel). "
   ]
  },
  {
   "cell_type": "markdown",
   "metadata": {},
   "source": [
    "## Running code\n",
    "\n",
    "In contrast to [IPyStata](https://github.com/TiesdeKok/ipystata), no special commands are needed. Just write code as you would normally in Stata.\n",
    "\n",
    "Let's make sure that the connection with Stata is working properly."
   ]
  },
  {
   "cell_type": "code",
   "execution_count": null,
   "metadata": {},
   "outputs": [],
   "source": [
    "display \"Hello, world!\""
   ]
  },
  {
   "cell_type": "markdown",
   "metadata": {},
   "source": [
    "You can run a cell by pressing <kbd>Ctrl</kbd>+<kbd>Enter</kbd> or <kbd>Shift</kbd>+<kbd>Enter</kbd>. If a number appears in the brackets to the left of the input cell, that means that the code was successfully run (sometimes a cell doesn't produce any output).\n",
    "\n",
    "If you don't see `Hello, world!` as output, check out the [troubleshooting tips](https://kylebarron.dev/stata_kernel/using_stata_kernel/troubleshooting/)."
   ]
  },
  {
   "cell_type": "markdown",
   "metadata": {},
   "source": [
    "Let's load the included `auto` dataset."
   ]
  },
  {
   "cell_type": "code",
   "execution_count": null,
   "metadata": {},
   "outputs": [],
   "source": [
    "sysuse auto.dta"
   ]
  },
  {
   "cell_type": "markdown",
   "metadata": {},
   "source": [
    "Now the `auto` dataset is in memory."
   ]
  },
  {
   "cell_type": "markdown",
   "metadata": {},
   "source": [
    "### Basic descriptive statistics"
   ]
  },
  {
   "cell_type": "markdown",
   "metadata": {},
   "source": [
    "Nearly all commands that work in Stata work through Jupyter as well. A couple commands that depend on the Graphical User Interface, such as `browse` and `edit`, only work on Windows."
   ]
  },
  {
   "cell_type": "code",
   "execution_count": null,
   "metadata": {},
   "outputs": [],
   "source": [
    "set linesize 120\n",
    "tabulate foreign headroom                                                                                      "
   ]
  },
  {
   "cell_type": "markdown",
   "metadata": {},
   "source": [
    "## Graphs"
   ]
  },
  {
   "cell_type": "markdown",
   "metadata": {},
   "source": [
    "No special syntax is needed to generate graphs. Just write commands like you're used to.\n",
    "The display order of graphs will always be the same as the order in the code."
   ]
  },
  {
   "cell_type": "code",
   "execution_count": null,
   "metadata": {
    "jupyter": {
     "source_hidden": true
    },
    "tags": []
   },
   "outputs": [],
   "source": [
    "set sslrelax on"
   ]
  },
  {
   "cell_type": "code",
   "execution_count": null,
   "metadata": {},
   "outputs": [],
   "source": [
    "// Dataset with test scores\n",
    "use \"https://stats.idre.ucla.edu/stat/stata/notes/hsb2\", clear\n",
    "scatter read math, title(\"Reading score vs Math score\")\n",
    "scatter math science, title(\"Math score vs Science score\") name(science)"
   ]
  },
  {
   "cell_type": "markdown",
   "metadata": {},
   "source": [
    "If you don't want to display a graph, use the [`nodraw`](https://www.stata.com/help.cgi?nodraw_option) option..."
   ]
  },
  {
   "cell_type": "code",
   "execution_count": null,
   "metadata": {},
   "outputs": [],
   "source": [
    "scatter read math, title(\"Reading score vs Math score\") nodraw"
   ]
  },
  {
   "cell_type": "markdown",
   "metadata": {},
   "source": [
    "...or the `%quietly` magic:"
   ]
  },
  {
   "cell_type": "code",
   "execution_count": null,
   "metadata": {},
   "outputs": [],
   "source": [
    "*%%quietly\n",
    "scatter read math, title(\"Reading score vs Math score\")"
   ]
  },
  {
   "cell_type": "markdown",
   "metadata": {},
   "source": [
    "## Autocompletion\n",
    "\n",
    "`nbstata` provides autocompletion for locals, globals, variables, scalars, and matrices based on the contents in memory. It also suggests file paths to load or save files. Press <kbd>Tab</kbd> while typing to activate it.\n",
    "\n",
    "<img align=\"left\" width=\"150\" src=\"https://raw.githubusercontent.com/kylebarron/stata_kernel/master/docs/src/img/jupyterlab_autocompletion.png\">"
   ]
  },
  {
   "cell_type": "markdown",
   "metadata": {},
   "source": [
    "Try it below by placing the cursor between `S` and `\"` and pressing <kbd>Tab</kbd>:"
   ]
  },
  {
   "cell_type": "code",
   "execution_count": null,
   "metadata": {},
   "outputs": [],
   "source": [
    "display \"$S\""
   ]
  },
  {
   "cell_type": "markdown",
   "metadata": {},
   "source": [
    "## Magics\n",
    "\n",
    "[_Magics_](https://kylebarron.dev/stata_kernel/using_stata_kernel/magics/) are special commands that `stata_kernel` provides to give extra functionality, especially regarding the connection with Jupyter. \n",
    "\n",
    "These commands all start with `%`. You can run `%help magics` or [go here](https://kylebarron.dev/stata_kernel/using_stata_kernel/magics/) to see a list of available magics. You can also run `%magic_name --help` to see the help for any given magic.\n",
    "\n",
    "In order to prevent confusion, these commands **must** occur at the beginning of a cell."
   ]
  },
  {
   "cell_type": "markdown",
   "metadata": {},
   "source": [
    "### `%head`, `%browse`, `%tail`\n",
    "\n",
    "**`%head`** and **`%tail`** show a well-formatted portion of the dataset in memory."
   ]
  },
  {
   "cell_type": "code",
   "execution_count": null,
   "metadata": {},
   "outputs": [],
   "source": [
    "*%head"
   ]
  },
  {
   "cell_type": "markdown",
   "metadata": {},
   "source": [
    "**`%browse`** opens an interactive datagrid widget, which may be expanded into a separate Jupyter Lab tab by right clicking it and selecting \"Create New View for Output.\""
   ]
  },
  {
   "cell_type": "code",
   "execution_count": null,
   "metadata": {},
   "outputs": [],
   "source": [
    "%browse if female"
   ]
  },
  {
   "cell_type": "markdown",
   "metadata": {},
   "source": [
    "### `%help`\n",
    "**`%help`** shows the help menu for a given command. The links in this help file are clickable, just like the official Stata documentation. (This command requires internet access.)"
   ]
  },
  {
   "cell_type": "code",
   "execution_count": null,
   "metadata": {},
   "outputs": [],
   "source": [
    "%help order"
   ]
  },
  {
   "cell_type": "markdown",
   "metadata": {},
   "source": [
    "### `%locals`\n",
    "\n",
    "**`%locals`** displays the local macros in the current environment. (The stata command `macro list` does the same for global macros.)"
   ]
  },
  {
   "cell_type": "code",
   "execution_count": null,
   "metadata": {},
   "outputs": [],
   "source": [
    "local local1 \"foo\"\n",
    "local local2 \"bar\"\n",
    "local abcd \"foo bar\""
   ]
  },
  {
   "cell_type": "code",
   "execution_count": null,
   "metadata": {},
   "outputs": [],
   "source": [
    "%locals"
   ]
  },
  {
   "cell_type": "code",
   "execution_count": null,
   "metadata": {},
   "outputs": [],
   "source": [
    "macro list"
   ]
  },
  {
   "cell_type": "markdown",
   "metadata": {},
   "source": [
    "## `;`-delimited commands\n",
    "\n",
    "Often with long commands, such as graphs, using [`#delimit ;`](https://www.stata.com/help.cgi?delimit) helps prevent very long lines and helps to keep code more readable. This is supported in `stata_kernel`, despite it not being allowed in the normal Stata command-line environment."
   ]
  },
  {
   "cell_type": "code",
   "execution_count": null,
   "metadata": {},
   "outputs": [],
   "source": [
    "sysuse auto, clear"
   ]
  },
  {
   "cell_type": "code",
   "execution_count": null,
   "metadata": {},
   "outputs": [],
   "source": [
    "#delimit ;\n",
    "display \"Hello, world!\";"
   ]
  },
  {
   "cell_type": "markdown",
   "metadata": {},
   "source": [
    "It's important to note that the `;`-delimiter mode persists across cells. `stata_kernel` will expect cells to include `;` for each command, and will raise a warning if `;` is missing."
   ]
  },
  {
   "cell_type": "code",
   "execution_count": null,
   "metadata": {},
   "outputs": [],
   "source": [
    "display \"Hello, world!\""
   ]
  },
  {
   "cell_type": "markdown",
   "metadata": {},
   "source": [
    "You can check the current delimiter with the **`%delimit`** magic."
   ]
  },
  {
   "cell_type": "code",
   "execution_count": null,
   "metadata": {},
   "outputs": [],
   "source": [
    "*%delimit"
   ]
  },
  {
   "cell_type": "markdown",
   "metadata": {},
   "source": [
    "You can switch back to normal line-break delimited commands (i.e. where `;` is unnecessary) with `#delimit cr`."
   ]
  },
  {
   "cell_type": "code",
   "execution_count": null,
   "metadata": {},
   "outputs": [],
   "source": [
    "#delimit cr"
   ]
  },
  {
   "cell_type": "code",
   "execution_count": null,
   "metadata": {},
   "outputs": [],
   "source": [
    "*%delimit"
   ]
  },
  {
   "cell_type": "markdown",
   "metadata": {},
   "source": [
    "## Comments in code\n",
    "\n",
    "`stata_kernel` lets you use _any_ format of comments, including `//`, `///`, `*`, and `/*`-`*/`, even in an interactive console environment where the Stata command line normally wouldn't accept them."
   ]
  },
  {
   "cell_type": "code",
   "execution_count": null,
   "metadata": {},
   "outputs": [],
   "source": [
    "display \"displayed\" // comment"
   ]
  },
  {
   "cell_type": "code",
   "execution_count": null,
   "metadata": {},
   "outputs": [],
   "source": [
    "display \"line continuation \" /// commented out\n",
    "    \"comment\""
   ]
  },
  {
   "cell_type": "code",
   "execution_count": null,
   "metadata": {},
   "outputs": [],
   "source": [
    "* display \"not displayed\""
   ]
  },
  {
   "cell_type": "code",
   "execution_count": null,
   "metadata": {},
   "outputs": [],
   "source": [
    "display \"displayed1\"\n",
    "/*\n",
    "display \"displayed2\"\n",
    "*/\n",
    "display \"displayed3\""
   ]
  }
 ],
 "metadata": {
  "kernelspec": {
   "display_name": "Stata (nbstata)",
   "language": "stata",
   "name": "nbstata"
  },
  "language_info": {
   "file_extension": ".do",
   "mimetype": "text/x-stata",
   "name": "stata",
   "version": "17"
  },
  "toc": {
   "colors": {
    "hover_highlight": "#DAA520",
    "running_highlight": "#FF0000",
    "selected_highlight": "#FFD700"
   },
   "moveMenuLeft": true,
   "nav_menu": {
    "height": "464px",
    "width": "252px"
   },
   "navigate_menu": true,
   "number_sections": false,
   "sideBar": true,
   "threshold": 4,
   "toc_cell": false,
   "toc_section_display": "block",
   "toc_window_display": false
  }
 },
 "nbformat": 4,
 "nbformat_minor": 4
}
